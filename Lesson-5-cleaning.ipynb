{
 "cells": [
  {
   "cell_type": "markdown",
   "id": "faacdd29-420b-40ab-a9f6-30ce510e4637",
   "metadata": {},
   "source": [
    "# Updating Data frames\n",
    "\n",
    "## Data: Palmer Penguins"
   ]
  },
  {
   "cell_type": "code",
   "execution_count": 50,
   "id": "209f8156-2011-47e5-82af-4a8bc60df5ba",
   "metadata": {
    "tags": []
   },
   "outputs": [],
   "source": [
    "# import standard libraries \n",
    "import pandas as pd\n",
    "import numpy as np\n",
    "\n",
    "# import seaborn with standard abbreviation\n",
    "import seaborn as sns\n",
    "\n",
    "# use random library to create random numbers\n",
    "import random"
   ]
  },
  {
   "cell_type": "code",
   "execution_count": 74,
   "id": "afe79162-74d3-41e3-8e41-49e1db4af171",
   "metadata": {
    "tags": []
   },
   "outputs": [
    {
     "data": {
      "text/html": [
       "<div>\n",
       "<style scoped>\n",
       "    .dataframe tbody tr th:only-of-type {\n",
       "        vertical-align: middle;\n",
       "    }\n",
       "\n",
       "    .dataframe tbody tr th {\n",
       "        vertical-align: top;\n",
       "    }\n",
       "\n",
       "    .dataframe thead th {\n",
       "        text-align: right;\n",
       "    }\n",
       "</style>\n",
       "<table border=\"1\" class=\"dataframe\">\n",
       "  <thead>\n",
       "    <tr style=\"text-align: right;\">\n",
       "      <th></th>\n",
       "      <th>species</th>\n",
       "      <th>island</th>\n",
       "      <th>bill_length_mm</th>\n",
       "      <th>bill_depth_mm</th>\n",
       "      <th>flipper_length_mm</th>\n",
       "      <th>body_mass_g</th>\n",
       "      <th>sex</th>\n",
       "    </tr>\n",
       "  </thead>\n",
       "  <tbody>\n",
       "    <tr>\n",
       "      <th>0</th>\n",
       "      <td>Adelie</td>\n",
       "      <td>Torgersen</td>\n",
       "      <td>39.1</td>\n",
       "      <td>18.7</td>\n",
       "      <td>181.0</td>\n",
       "      <td>3750.0</td>\n",
       "      <td>Male</td>\n",
       "    </tr>\n",
       "    <tr>\n",
       "      <th>1</th>\n",
       "      <td>Adelie</td>\n",
       "      <td>Torgersen</td>\n",
       "      <td>39.5</td>\n",
       "      <td>17.4</td>\n",
       "      <td>186.0</td>\n",
       "      <td>3800.0</td>\n",
       "      <td>Female</td>\n",
       "    </tr>\n",
       "    <tr>\n",
       "      <th>2</th>\n",
       "      <td>Adelie</td>\n",
       "      <td>Torgersen</td>\n",
       "      <td>40.3</td>\n",
       "      <td>18.0</td>\n",
       "      <td>195.0</td>\n",
       "      <td>3250.0</td>\n",
       "      <td>Female</td>\n",
       "    </tr>\n",
       "    <tr>\n",
       "      <th>3</th>\n",
       "      <td>Adelie</td>\n",
       "      <td>Torgersen</td>\n",
       "      <td>NaN</td>\n",
       "      <td>NaN</td>\n",
       "      <td>NaN</td>\n",
       "      <td>NaN</td>\n",
       "      <td>NaN</td>\n",
       "    </tr>\n",
       "    <tr>\n",
       "      <th>4</th>\n",
       "      <td>Adelie</td>\n",
       "      <td>Torgersen</td>\n",
       "      <td>36.7</td>\n",
       "      <td>19.3</td>\n",
       "      <td>193.0</td>\n",
       "      <td>3450.0</td>\n",
       "      <td>Female</td>\n",
       "    </tr>\n",
       "  </tbody>\n",
       "</table>\n",
       "</div>"
      ],
      "text/plain": [
       "  species     island  bill_length_mm  bill_depth_mm  flipper_length_mm  \\\n",
       "0  Adelie  Torgersen            39.1           18.7              181.0   \n",
       "1  Adelie  Torgersen            39.5           17.4              186.0   \n",
       "2  Adelie  Torgersen            40.3           18.0              195.0   \n",
       "3  Adelie  Torgersen             NaN            NaN                NaN   \n",
       "4  Adelie  Torgersen            36.7           19.3              193.0   \n",
       "\n",
       "   body_mass_g     sex  \n",
       "0       3750.0    Male  \n",
       "1       3800.0  Female  \n",
       "2       3250.0  Female  \n",
       "3          NaN     NaN  \n",
       "4       3450.0  Female  "
      ]
     },
     "execution_count": 74,
     "metadata": {},
     "output_type": "execute_result"
    }
   ],
   "source": [
    "# import data from sns\n",
    "penguins = sns.load_dataset('penguins')\n",
    "\n",
    "# look at datamframes head \n",
    "penguins.head()"
   ]
  },
  {
   "cell_type": "markdown",
   "id": "e4c889b4-ee9f-47f9-9efd-ba3ce03fd08a",
   "metadata": {},
   "source": [
    "## Adding a column \n",
    "\n",
    "General syntax to add a single column is:\n",
    "\n",
    "```\n",
    "df['new_col_name'] = new_column_values\n",
    "```\n",
    "\n",
    "`new_column_values` could be:\n",
    "\n",
    "- a `pd.Series` or `numpy.array` of the same length as the data frame\n",
    "- a single scalar (single number, single string)\n",
    "\n",
    "**Example**\n",
    "\n",
    "Want to create a new column where the body mass is in kg instead of grams"
   ]
  },
  {
   "cell_type": "code",
   "execution_count": 78,
   "id": "64bb4de3-0f02-4bf0-9285-f58fb89b02a0",
   "metadata": {
    "tags": []
   },
   "outputs": [
    {
     "name": "stdout",
     "output_type": "stream",
     "text": [
      "True\n"
     ]
    }
   ],
   "source": [
    "# add column\n",
    "penguins['body_mass_kg'] = penguins.body_mass_g/1000\n",
    "\n",
    "# check if this new column has been addded - will output True if its been added successfully\n",
    "print('body_mass_kg' in penguins.columns)"
   ]
  },
  {
   "cell_type": "markdown",
   "id": "b8389278-c5ca-47f4-9c49-dd32bded51b5",
   "metadata": {},
   "source": [
    "To create a new column and insert it as a particular position we use `insert()`:\n",
    "```\n",
    "df.insert(loc = integers_index,\n",
    "            column = 'new_column_name',\n",
    "            value = new_col_vales) # location of new column\n",
    "```\n",
    "\n",
    "Example:\n",
    "\n",
    "Each penguin gets a unique code as a 3 digit number. Add this column at the beginning of the data frame:"
   ]
  },
  {
   "cell_type": "code",
   "execution_count": 79,
   "id": "6001578d-bcd5-4ea7-b382-17bccb2afacb",
   "metadata": {
    "tags": []
   },
   "outputs": [
    {
     "ename": "ValueError",
     "evalue": "cannot insert code, already exists",
     "output_type": "error",
     "traceback": [
      "\u001b[0;31m---------------------------------------------------------------------------\u001b[0m",
      "\u001b[0;31mValueError\u001b[0m                                Traceback (most recent call last)",
      "\u001b[0;32m/tmp/ipykernel_7625/419007554.py\u001b[0m in \u001b[0;36m<module>\u001b[0;34m\u001b[0m\n\u001b[1;32m      4\u001b[0m                       len(penguins)) # as many rows as in the specific dataframe\n\u001b[1;32m      5\u001b[0m \u001b[0;34m\u001b[0m\u001b[0m\n\u001b[0;32m----> 6\u001b[0;31m penguins.insert(loc = 0,\n\u001b[0m\u001b[1;32m      7\u001b[0m                \u001b[0mcolumn\u001b[0m \u001b[0;34m=\u001b[0m \u001b[0;34m'code'\u001b[0m\u001b[0;34m,\u001b[0m\u001b[0;34m\u001b[0m\u001b[0;34m\u001b[0m\u001b[0m\n\u001b[1;32m      8\u001b[0m                value = codes)\n",
      "\u001b[0;32m/opt/anaconda3/lib/python3.9/site-packages/pandas/core/frame.py\u001b[0m in \u001b[0;36minsert\u001b[0;34m(self, loc, column, value, allow_duplicates)\u001b[0m\n\u001b[1;32m   4441\u001b[0m         \u001b[0;32mif\u001b[0m \u001b[0;32mnot\u001b[0m \u001b[0mallow_duplicates\u001b[0m \u001b[0;32mand\u001b[0m \u001b[0mcolumn\u001b[0m \u001b[0;32min\u001b[0m \u001b[0mself\u001b[0m\u001b[0;34m.\u001b[0m\u001b[0mcolumns\u001b[0m\u001b[0;34m:\u001b[0m\u001b[0;34m\u001b[0m\u001b[0;34m\u001b[0m\u001b[0m\n\u001b[1;32m   4442\u001b[0m             \u001b[0;31m# Should this be a different kind of error??\u001b[0m\u001b[0;34m\u001b[0m\u001b[0;34m\u001b[0m\u001b[0m\n\u001b[0;32m-> 4443\u001b[0;31m             \u001b[0;32mraise\u001b[0m \u001b[0mValueError\u001b[0m\u001b[0;34m(\u001b[0m\u001b[0;34mf\"cannot insert {column}, already exists\"\u001b[0m\u001b[0;34m)\u001b[0m\u001b[0;34m\u001b[0m\u001b[0;34m\u001b[0m\u001b[0m\n\u001b[0m\u001b[1;32m   4444\u001b[0m         \u001b[0;32mif\u001b[0m \u001b[0;32mnot\u001b[0m \u001b[0misinstance\u001b[0m\u001b[0;34m(\u001b[0m\u001b[0mloc\u001b[0m\u001b[0;34m,\u001b[0m \u001b[0mint\u001b[0m\u001b[0;34m)\u001b[0m\u001b[0;34m:\u001b[0m\u001b[0;34m\u001b[0m\u001b[0;34m\u001b[0m\u001b[0m\n\u001b[1;32m   4445\u001b[0m             \u001b[0;32mraise\u001b[0m \u001b[0mTypeError\u001b[0m\u001b[0;34m(\u001b[0m\u001b[0;34m\"loc must be int\"\u001b[0m\u001b[0;34m)\u001b[0m\u001b[0;34m\u001b[0m\u001b[0;34m\u001b[0m\u001b[0m\n",
      "\u001b[0;31mValueError\u001b[0m: cannot insert code, already exists"
     ]
    }
   ],
   "source": [
    "# create random 3-digit code \n",
    "# sample is without replacement\n",
    "codes = random.sample(range(100,1000), \n",
    "                      len(penguins)) # as many rows as in the specific dataframe\n",
    "\n",
    "penguins.insert(loc = 0,\n",
    "               column = 'code', \n",
    "               value = codes)"
   ]
  },
  {
   "cell_type": "code",
   "execution_count": 54,
   "id": "030f95eb-e8af-46f4-ad70-982d039f20fa",
   "metadata": {
    "tags": []
   },
   "outputs": [
    {
     "data": {
      "text/html": [
       "<div>\n",
       "<style scoped>\n",
       "    .dataframe tbody tr th:only-of-type {\n",
       "        vertical-align: middle;\n",
       "    }\n",
       "\n",
       "    .dataframe tbody tr th {\n",
       "        vertical-align: top;\n",
       "    }\n",
       "\n",
       "    .dataframe thead th {\n",
       "        text-align: right;\n",
       "    }\n",
       "</style>\n",
       "<table border=\"1\" class=\"dataframe\">\n",
       "  <thead>\n",
       "    <tr style=\"text-align: right;\">\n",
       "      <th></th>\n",
       "      <th>code</th>\n",
       "      <th>species</th>\n",
       "      <th>island</th>\n",
       "      <th>bill_length_mm</th>\n",
       "      <th>bill_depth_mm</th>\n",
       "      <th>flipper_length_mm</th>\n",
       "      <th>body_mass_g</th>\n",
       "      <th>sex</th>\n",
       "      <th>body_mass_kg</th>\n",
       "    </tr>\n",
       "  </thead>\n",
       "  <tbody>\n",
       "    <tr>\n",
       "      <th>0</th>\n",
       "      <td>797</td>\n",
       "      <td>Adelie</td>\n",
       "      <td>Torgersen</td>\n",
       "      <td>39.1</td>\n",
       "      <td>18.7</td>\n",
       "      <td>181.0</td>\n",
       "      <td>3750.0</td>\n",
       "      <td>Male</td>\n",
       "      <td>37.5</td>\n",
       "    </tr>\n",
       "    <tr>\n",
       "      <th>1</th>\n",
       "      <td>492</td>\n",
       "      <td>Adelie</td>\n",
       "      <td>Torgersen</td>\n",
       "      <td>39.5</td>\n",
       "      <td>17.4</td>\n",
       "      <td>186.0</td>\n",
       "      <td>3800.0</td>\n",
       "      <td>Female</td>\n",
       "      <td>38.0</td>\n",
       "    </tr>\n",
       "    <tr>\n",
       "      <th>2</th>\n",
       "      <td>999</td>\n",
       "      <td>Adelie</td>\n",
       "      <td>Torgersen</td>\n",
       "      <td>40.3</td>\n",
       "      <td>18.0</td>\n",
       "      <td>195.0</td>\n",
       "      <td>3250.0</td>\n",
       "      <td>Female</td>\n",
       "      <td>32.5</td>\n",
       "    </tr>\n",
       "    <tr>\n",
       "      <th>3</th>\n",
       "      <td>396</td>\n",
       "      <td>Adelie</td>\n",
       "      <td>Torgersen</td>\n",
       "      <td>NaN</td>\n",
       "      <td>NaN</td>\n",
       "      <td>NaN</td>\n",
       "      <td>NaN</td>\n",
       "      <td>NaN</td>\n",
       "      <td>NaN</td>\n",
       "    </tr>\n",
       "    <tr>\n",
       "      <th>4</th>\n",
       "      <td>916</td>\n",
       "      <td>Adelie</td>\n",
       "      <td>Torgersen</td>\n",
       "      <td>36.7</td>\n",
       "      <td>19.3</td>\n",
       "      <td>193.0</td>\n",
       "      <td>3450.0</td>\n",
       "      <td>Female</td>\n",
       "      <td>34.5</td>\n",
       "    </tr>\n",
       "  </tbody>\n",
       "</table>\n",
       "</div>"
      ],
      "text/plain": [
       "   code species     island  bill_length_mm  bill_depth_mm  flipper_length_mm  \\\n",
       "0   797  Adelie  Torgersen            39.1           18.7              181.0   \n",
       "1   492  Adelie  Torgersen            39.5           17.4              186.0   \n",
       "2   999  Adelie  Torgersen            40.3           18.0              195.0   \n",
       "3   396  Adelie  Torgersen             NaN            NaN                NaN   \n",
       "4   916  Adelie  Torgersen            36.7           19.3              193.0   \n",
       "\n",
       "   body_mass_g     sex  body_mass_kg  \n",
       "0       3750.0    Male          37.5  \n",
       "1       3800.0  Female          38.0  \n",
       "2       3250.0  Female          32.5  \n",
       "3          NaN     NaN           NaN  \n",
       "4       3450.0  Female          34.5  "
      ]
     },
     "execution_count": 54,
     "metadata": {},
     "output_type": "execute_result"
    }
   ],
   "source": [
    "# check the output - new column 'code' should be the first column \n",
    "penguins.head()"
   ]
  },
  {
   "cell_type": "markdown",
   "id": "6c68b4d7-d2fa-4536-a913-7946134c4f11",
   "metadata": {
    "tags": []
   },
   "source": [
    "## Adding multiple columns\n",
    "\n",
    "We can assign multiple columns in teh same call using `assign()` method:\n",
    "\n",
    "Syntax:\n",
    "```\n",
    "df.assign( new_col1 = new_col1_values,\n",
    "            new_col2 = new_col2_values)\n",
    "```\n",
    "\n",
    "Notice: New column names are not strings, we are assigning them as if we are creating variables...aka no quotation marks.\n",
    "\n",
    "**Example:**\n",
    "\n",
    "Add columns:\n",
    "- flipper length converted from mm to cm, and\n",
    "- a code representing the observer"
   ]
  },
  {
   "cell_type": "code",
   "execution_count": 80,
   "id": "8c5999cb-bae6-483e-9f6f-c099f2c5fb76",
   "metadata": {
    "tags": []
   },
   "outputs": [],
   "source": [
    "# create codes fro observers\n",
    "observers = random.choices(['a', 'b', 'c'], # sample from this array\n",
    "                          k = len(penguins)) # get this many items\n",
    "\n",
    "# output is column of a, b, c values of length `k`\n",
    "##observers"
   ]
  },
  {
   "cell_type": "code",
   "execution_count": 75,
   "id": "98ee50d5-cdc1-4fac-9896-a0d62ecc7ded",
   "metadata": {
    "tags": []
   },
   "outputs": [
    {
     "data": {
      "text/html": [
       "<div>\n",
       "<style scoped>\n",
       "    .dataframe tbody tr th:only-of-type {\n",
       "        vertical-align: middle;\n",
       "    }\n",
       "\n",
       "    .dataframe tbody tr th {\n",
       "        vertical-align: top;\n",
       "    }\n",
       "\n",
       "    .dataframe thead th {\n",
       "        text-align: right;\n",
       "    }\n",
       "</style>\n",
       "<table border=\"1\" class=\"dataframe\">\n",
       "  <thead>\n",
       "    <tr style=\"text-align: right;\">\n",
       "      <th></th>\n",
       "      <th>species</th>\n",
       "      <th>island</th>\n",
       "      <th>bill_length_mm</th>\n",
       "      <th>bill_depth_mm</th>\n",
       "      <th>flipper_length_mm</th>\n",
       "      <th>body_mass_g</th>\n",
       "      <th>sex</th>\n",
       "      <th>flipper_length_cm</th>\n",
       "      <th>observer</th>\n",
       "    </tr>\n",
       "  </thead>\n",
       "  <tbody>\n",
       "    <tr>\n",
       "      <th>0</th>\n",
       "      <td>Adelie</td>\n",
       "      <td>Torgersen</td>\n",
       "      <td>39.1</td>\n",
       "      <td>18.7</td>\n",
       "      <td>181.0</td>\n",
       "      <td>3750.0</td>\n",
       "      <td>Male</td>\n",
       "      <td>1.81</td>\n",
       "      <td>a</td>\n",
       "    </tr>\n",
       "    <tr>\n",
       "      <th>1</th>\n",
       "      <td>Adelie</td>\n",
       "      <td>Torgersen</td>\n",
       "      <td>39.5</td>\n",
       "      <td>17.4</td>\n",
       "      <td>186.0</td>\n",
       "      <td>3800.0</td>\n",
       "      <td>Female</td>\n",
       "      <td>1.86</td>\n",
       "      <td>c</td>\n",
       "    </tr>\n",
       "    <tr>\n",
       "      <th>2</th>\n",
       "      <td>Adelie</td>\n",
       "      <td>Torgersen</td>\n",
       "      <td>40.3</td>\n",
       "      <td>18.0</td>\n",
       "      <td>195.0</td>\n",
       "      <td>3250.0</td>\n",
       "      <td>Female</td>\n",
       "      <td>1.95</td>\n",
       "      <td>a</td>\n",
       "    </tr>\n",
       "    <tr>\n",
       "      <th>3</th>\n",
       "      <td>Adelie</td>\n",
       "      <td>Torgersen</td>\n",
       "      <td>NaN</td>\n",
       "      <td>NaN</td>\n",
       "      <td>NaN</td>\n",
       "      <td>NaN</td>\n",
       "      <td>NaN</td>\n",
       "      <td>NaN</td>\n",
       "      <td>a</td>\n",
       "    </tr>\n",
       "    <tr>\n",
       "      <th>4</th>\n",
       "      <td>Adelie</td>\n",
       "      <td>Torgersen</td>\n",
       "      <td>36.7</td>\n",
       "      <td>19.3</td>\n",
       "      <td>193.0</td>\n",
       "      <td>3450.0</td>\n",
       "      <td>Female</td>\n",
       "      <td>1.93</td>\n",
       "      <td>b</td>\n",
       "    </tr>\n",
       "  </tbody>\n",
       "</table>\n",
       "</div>"
      ],
      "text/plain": [
       "  species     island  bill_length_mm  bill_depth_mm  flipper_length_mm  \\\n",
       "0  Adelie  Torgersen            39.1           18.7              181.0   \n",
       "1  Adelie  Torgersen            39.5           17.4              186.0   \n",
       "2  Adelie  Torgersen            40.3           18.0              195.0   \n",
       "3  Adelie  Torgersen             NaN            NaN                NaN   \n",
       "4  Adelie  Torgersen            36.7           19.3              193.0   \n",
       "\n",
       "   body_mass_g     sex  flipper_length_cm observer  \n",
       "0       3750.0    Male               1.81        a  \n",
       "1       3800.0  Female               1.86        c  \n",
       "2       3250.0  Female               1.95        a  \n",
       "3          NaN     NaN                NaN        a  \n",
       "4       3450.0  Female               1.93        b  "
      ]
     },
     "execution_count": 75,
     "metadata": {},
     "output_type": "execute_result"
    }
   ],
   "source": [
    "penguins = penguins.assign(flipper_length_cm = penguins.flipper_length_mm/100,\n",
    "                            observer = observers) # insert column defined above\n",
    "\n",
    "penguins.head()"
   ]
  },
  {
   "cell_type": "markdown",
   "id": "c7bb37c5-b73c-4262-be90-80cec90ddc73",
   "metadata": {
    "tags": []
   },
   "source": [
    "## Remove columns\n",
    "\n",
    "We can remove columns using the `drop()` method. Syntax:\n",
    "```\n",
    "df = df.drop(columns = col_names)\n",
    "```\n",
    "\n",
    "where `col_names` can be sinlge column name (string) or a list of column names.\n",
    "\n",
    "**Example**\n",
    "\n",
    "We want to drop the `flipper_length_mm` and `body_mass_g` columns:"
   ]
  },
  {
   "cell_type": "code",
   "execution_count": 81,
   "id": "25151480-d5fb-4cd4-92ba-10c760df68fa",
   "metadata": {
    "tags": []
   },
   "outputs": [],
   "source": [
    "# reassign when using drop\n",
    "penguins = penguins.drop(columns = ['flipper_length_mm', 'body_mass_g'])"
   ]
  },
  {
   "cell_type": "code",
   "execution_count": 69,
   "id": "c8ed4991-de34-4c2a-bc4a-3bbc28f0ada4",
   "metadata": {
    "tags": []
   },
   "outputs": [
    {
     "name": "stdout",
     "output_type": "stream",
     "text": [
      "Index(['code', 'species', 'island', 'bill_length_mm', 'bill_depth_mm', 'sex',\n",
      "       'body_mass_kg', 'flipper_length_cm', 'observer'],\n",
      "      dtype='object')\n"
     ]
    }
   ],
   "source": [
    "print(penguins.columns)"
   ]
  },
  {
   "cell_type": "markdown",
   "id": "b61eceae-2003-45e3-9e3d-072d3da234bb",
   "metadata": {},
   "source": [
    "## Updating values\n",
    "\n",
    "Sometimes we want to update a certain calue in our data frame.\n",
    "\n",
    "### A single value\n",
    "\n",
    "We can access a single value in a `pd.DataFrame` using the locators:\n",
    "- `at[]` : to select by labels\n",
    "- `iat[]` : to select by integer index/position \n",
    "\n",
    "Syntax for `at[]`:\n",
    "```\n",
    "df.at[index, col_name]\n",
    "```\n",
    "\n",
    "Syntax for `iat[]`:\n",
    "```\n",
    "df.at[index_row, index_col_name]\n",
    "```"
   ]
  },
  {
   "cell_type": "code",
   "execution_count": 82,
   "id": "ee9646ef-3535-4eae-9d5e-ecf4d68ae5de",
   "metadata": {
    "tags": []
   },
   "outputs": [
    {
     "data": {
      "text/plain": [
       "nan"
      ]
     },
     "execution_count": 82,
     "metadata": {},
     "output_type": "execute_result"
    }
   ],
   "source": [
    "penguins.at[3, 'bill_length_mm']"
   ]
  },
  {
   "cell_type": "markdown",
   "id": "77472192-7d96-4de1-b3f2-92913dca52d6",
   "metadata": {},
   "source": [
    "We got an `NA` value, lets update it to 38.3 mm. We do this using [at] too:"
   ]
  },
  {
   "cell_type": "code",
   "execution_count": 83,
   "id": "34c6a987-48f1-4bb8-ab32-6bc86676f2b6",
   "metadata": {
    "tags": []
   },
   "outputs": [],
   "source": [
    "# update value in place\n",
    "penguins.at[3, 'bill_length_mm'] = 38.3"
   ]
  },
  {
   "cell_type": "markdown",
   "id": "e2fce129-0c19-4dce-8bbd-d35f0682d861",
   "metadata": {
    "tags": []
   },
   "source": [
    "## Update multiple values in a column \n",
    "\n",
    "### By condition \n",
    "\n",
    "Think of `case_when` in R. \n",
    "\n",
    "**Example**\n",
    "\n",
    "We want to classify penguins such that:\n",
    "- small : body mass < 3kg\n",
    "- medium : 3kj <= body mass < 5\n",
    "- large : 5 <= body mass \n",
    "\n",
    "One way to do this is to use `numpy.select()` to create a new column:\n",
    "1. create new column\n",
    "2. assign it"
   ]
  },
  {
   "cell_type": "code",
   "execution_count": 84,
   "id": "7e7c71db-0ab3-4585-b761-524540c9832c",
   "metadata": {
    "tags": []
   },
   "outputs": [
    {
     "data": {
      "text/html": [
       "<div>\n",
       "<style scoped>\n",
       "    .dataframe tbody tr th:only-of-type {\n",
       "        vertical-align: middle;\n",
       "    }\n",
       "\n",
       "    .dataframe tbody tr th {\n",
       "        vertical-align: top;\n",
       "    }\n",
       "\n",
       "    .dataframe thead th {\n",
       "        text-align: right;\n",
       "    }\n",
       "</style>\n",
       "<table border=\"1\" class=\"dataframe\">\n",
       "  <thead>\n",
       "    <tr style=\"text-align: right;\">\n",
       "      <th></th>\n",
       "      <th>code</th>\n",
       "      <th>species</th>\n",
       "      <th>island</th>\n",
       "      <th>bill_length_mm</th>\n",
       "      <th>bill_depth_mm</th>\n",
       "      <th>sex</th>\n",
       "      <th>flipper_length_cm</th>\n",
       "      <th>observer</th>\n",
       "      <th>body_mass_kg</th>\n",
       "      <th>size</th>\n",
       "    </tr>\n",
       "  </thead>\n",
       "  <tbody>\n",
       "    <tr>\n",
       "      <th>0</th>\n",
       "      <td>369</td>\n",
       "      <td>Adelie</td>\n",
       "      <td>Torgersen</td>\n",
       "      <td>39.1</td>\n",
       "      <td>18.7</td>\n",
       "      <td>Male</td>\n",
       "      <td>1.81</td>\n",
       "      <td>a</td>\n",
       "      <td>3.75</td>\n",
       "      <td>medium</td>\n",
       "    </tr>\n",
       "    <tr>\n",
       "      <th>1</th>\n",
       "      <td>923</td>\n",
       "      <td>Adelie</td>\n",
       "      <td>Torgersen</td>\n",
       "      <td>39.5</td>\n",
       "      <td>17.4</td>\n",
       "      <td>Female</td>\n",
       "      <td>1.86</td>\n",
       "      <td>c</td>\n",
       "      <td>3.80</td>\n",
       "      <td>medium</td>\n",
       "    </tr>\n",
       "    <tr>\n",
       "      <th>2</th>\n",
       "      <td>388</td>\n",
       "      <td>Adelie</td>\n",
       "      <td>Torgersen</td>\n",
       "      <td>40.3</td>\n",
       "      <td>18.0</td>\n",
       "      <td>Female</td>\n",
       "      <td>1.95</td>\n",
       "      <td>a</td>\n",
       "      <td>3.25</td>\n",
       "      <td>medium</td>\n",
       "    </tr>\n",
       "    <tr>\n",
       "      <th>3</th>\n",
       "      <td>580</td>\n",
       "      <td>Adelie</td>\n",
       "      <td>Torgersen</td>\n",
       "      <td>38.3</td>\n",
       "      <td>NaN</td>\n",
       "      <td>NaN</td>\n",
       "      <td>NaN</td>\n",
       "      <td>a</td>\n",
       "      <td>NaN</td>\n",
       "      <td>nan</td>\n",
       "    </tr>\n",
       "    <tr>\n",
       "      <th>4</th>\n",
       "      <td>537</td>\n",
       "      <td>Adelie</td>\n",
       "      <td>Torgersen</td>\n",
       "      <td>36.7</td>\n",
       "      <td>19.3</td>\n",
       "      <td>Female</td>\n",
       "      <td>1.93</td>\n",
       "      <td>b</td>\n",
       "      <td>3.45</td>\n",
       "      <td>medium</td>\n",
       "    </tr>\n",
       "  </tbody>\n",
       "</table>\n",
       "</div>"
      ],
      "text/plain": [
       "   code species     island  bill_length_mm  bill_depth_mm     sex  \\\n",
       "0   369  Adelie  Torgersen            39.1           18.7    Male   \n",
       "1   923  Adelie  Torgersen            39.5           17.4  Female   \n",
       "2   388  Adelie  Torgersen            40.3           18.0  Female   \n",
       "3   580  Adelie  Torgersen            38.3            NaN     NaN   \n",
       "4   537  Adelie  Torgersen            36.7           19.3  Female   \n",
       "\n",
       "   flipper_length_cm observer  body_mass_kg    size  \n",
       "0               1.81        a          3.75  medium  \n",
       "1               1.86        c          3.80  medium  \n",
       "2               1.95        a          3.25  medium  \n",
       "3                NaN        a           NaN     nan  \n",
       "4               1.93        b          3.45  medium  "
      ]
     },
     "execution_count": 84,
     "metadata": {},
     "output_type": "execute_result"
    }
   ],
   "source": [
    "# create a list with conditions\n",
    "conditions = [\n",
    "    \n",
    "    penguins.body_mass_kg <3, # small condition \n",
    "    (penguins.body_mass_kg >= 3) & (penguins.body_mass_kg < 5), # med condition\n",
    "    penguins.body_mass_kg >= 5 # large condition\n",
    "]\n",
    "\n",
    "# create list for choices \n",
    "choices = [\n",
    "    \n",
    "    'small',\n",
    "    'medium',\n",
    "    'large'\n",
    "]\n",
    "\n",
    "penguins['size'] = np.select(conditions,\n",
    "         choices,\n",
    "         default = np.nan)\n",
    "\n",
    "penguins.head()"
   ]
  },
  {
   "cell_type": "markdown",
   "id": "4beebcdf-616c-4193-9b7c-db2f91473e3b",
   "metadata": {
    "tags": []
   },
   "source": [
    "### Update a column by selecting values\n",
    "\n",
    "Sometimes we just want to update a few values that satisfy a condition. We can do this by selecting using `loc` ( if selecting by label) and then assign a new value\n",
    "```\n",
    "# modifies data in place\n",
    "df.loc[row_selection, col_name] = new_values\n",
    "```\n",
    "\n",
    "where\n",
    "- `row_selection`: rows we want to update\n",
    "- ` col_name` : a single column name, and\n",
    "- `new_values` = the new value or values we want to update\n",
    "\n",
    "\n",
    "**Example**\n",
    "\n",
    "We want to update \"Male\" value in the sex column to \"M\""
   ]
  },
  {
   "cell_type": "code",
   "execution_count": 87,
   "id": "d9eef7a8-f617-46e6-a547-9e632c79e1b2",
   "metadata": {
    "tags": []
   },
   "outputs": [],
   "source": [
    "penguins.loc[penguins.sex == \"Male\", # select row\n",
    "            'sex'] = 'M' # select column and assign value"
   ]
  },
  {
   "cell_type": "code",
   "execution_count": 89,
   "id": "a7a93d06-b368-41cc-9045-e3d9dd6ff75a",
   "metadata": {
    "tags": []
   },
   "outputs": [
    {
     "data": {
      "text/plain": [
       "array(['M', 'Female', nan], dtype=object)"
      ]
     },
     "execution_count": 89,
     "metadata": {},
     "output_type": "execute_result"
    }
   ],
   "source": [
    "# see that 'Male' has been updated to 'M'\n",
    "penguins.sex.unique()"
   ]
  },
  {
   "cell_type": "markdown",
   "id": "0876c15a-577a-4eaa-a911-50712fbf0733",
   "metadata": {
    "tags": []
   },
   "source": [
    "## `SettingWithCopyWarning`\n",
    "\n",
    "Suppose we wnat to udpate \"Female\" value in the sex column to \"F\". This is an example that we might try, but WONT work:"
   ]
  },
  {
   "cell_type": "code",
   "execution_count": 90,
   "id": "7fc273c4-3e40-4af4-9610-a21b439477ed",
   "metadata": {
    "tags": []
   },
   "outputs": [
    {
     "name": "stderr",
     "output_type": "stream",
     "text": [
      "/tmp/ipykernel_7625/2057910192.py:1: SettingWithCopyWarning: \n",
      "A value is trying to be set on a copy of a slice from a DataFrame.\n",
      "Try using .loc[row_indexer,col_indexer] = value instead\n",
      "\n",
      "See the caveats in the documentation: https://pandas.pydata.org/pandas-docs/stable/user_guide/indexing.html#returning-a-view-versus-a-copy\n",
      "  penguins[penguins.sex == 'Female']['sex'] = 'F'\n"
     ]
    }
   ],
   "source": [
    "penguins[penguins.sex == 'Female']['sex'] = 'F'"
   ]
  },
  {
   "cell_type": "markdown",
   "id": "a495fc66-f493-499e-bfe4-f6af7fdce5d7",
   "metadata": {},
   "source": [
    "When we select data with **chained indexing** `[][]` instead of `loc` we get this warning. `pandas` is trying to warn us that our code is ambiguous and there might be a bug.\n",
    "\n",
    "In this case, we did not update penguins data frame. "
   ]
  },
  {
   "cell_type": "markdown",
   "id": "38bb276c-c30f-4251-a1b6-6a9c62ffc197",
   "metadata": {},
   "source": [
    "## Views and copies\n",
    "\n",
    "Some `pandas` operations return a view to your data, while others return a copy to uour data. \n",
    "\n",
    "**Views**\n",
    "- are actual subsets of the original data. When we update them we are modifying the original dataframe. \n",
    "\n",
    "**Copies**\n",
    "- are unique objects that are independent of our original dataframe. When we update a copy, we are not modifying our original dara frame. \n",
    "\n",
    "Depending on what we are trying to do, we might want to modify a copy or a view.\n",
    "\n",
    "### Another `SettingWithCopyWarning`\n",
    "\n",
    "Another common situation when this warning comes up is if we try updating a subset of data frame already stored in a variable.\n",
    "\n",
    "Example:\n",
    "\n",
    "We only want data from Biscoe Island and, after doing some analyses, we want to add a new column to it:"
   ]
  },
  {
   "cell_type": "code",
   "execution_count": 93,
   "id": "19728926-92dd-4690-93ee-eb6311000939",
   "metadata": {
    "tags": []
   },
   "outputs": [
    {
     "name": "stderr",
     "output_type": "stream",
     "text": [
      "/tmp/ipykernel_7625/2609793367.py:5: SettingWithCopyWarning: \n",
      "A value is trying to be set on a copy of a slice from a DataFrame.\n",
      "Try using .loc[row_indexer,col_indexer] = value instead\n",
      "\n",
      "See the caveats in the documentation: https://pandas.pydata.org/pandas-docs/stable/user_guide/indexing.html#returning-a-view-versus-a-copy\n",
      "  biscoe['sample_column'] = 100\n"
     ]
    }
   ],
   "source": [
    "biscoe = penguins[penguins.island == 'Biscoe']\n",
    "\n",
    "## 50 lines of code later...\n",
    "\n",
    "biscoe['sample_column'] = 100"
   ]
  },
  {
   "cell_type": "markdown",
   "id": "21e754dc-52ef-413f-8dc7-09258c5d5f7b",
   "metadata": {},
   "source": [
    "Essentially what we did was\n",
    "```\n",
    "penguins[penguins.island == 'Biscoe']['sample_column'] = 100\n",
    "```\n",
    "\n",
    "And this wont work :/\n",
    "\n",
    "To fix this we can **take control of the copy-view situation and ask for a copy of dataset when subsetting the data**. \n",
    "\n",
    "Use the `copy()` method for this."
   ]
  },
  {
   "cell_type": "code",
   "execution_count": 95,
   "id": "bbd4191f-80aa-4462-b316-6b470f66ce5d",
   "metadata": {
    "tags": []
   },
   "outputs": [],
   "source": [
    "# make a copy of the data - breaks the cycle \n",
    "biscoe = penguins[penguins.island == 'Biscoe'].copy()\n",
    "\n",
    "# no warning because it knows what dataset I am handling\n",
    "biscoe['sample_column'] = 100"
   ]
  },
  {
   "cell_type": "code",
   "execution_count": 96,
   "id": "558417ef-5ea1-4ac1-b63e-d5b8b4f3313a",
   "metadata": {
    "tags": []
   },
   "outputs": [
    {
     "data": {
      "text/html": [
       "<div>\n",
       "<style scoped>\n",
       "    .dataframe tbody tr th:only-of-type {\n",
       "        vertical-align: middle;\n",
       "    }\n",
       "\n",
       "    .dataframe tbody tr th {\n",
       "        vertical-align: top;\n",
       "    }\n",
       "\n",
       "    .dataframe thead th {\n",
       "        text-align: right;\n",
       "    }\n",
       "</style>\n",
       "<table border=\"1\" class=\"dataframe\">\n",
       "  <thead>\n",
       "    <tr style=\"text-align: right;\">\n",
       "      <th></th>\n",
       "      <th>code</th>\n",
       "      <th>species</th>\n",
       "      <th>island</th>\n",
       "      <th>bill_length_mm</th>\n",
       "      <th>bill_depth_mm</th>\n",
       "      <th>sex</th>\n",
       "      <th>flipper_length_cm</th>\n",
       "      <th>observer</th>\n",
       "      <th>body_mass_kg</th>\n",
       "      <th>size</th>\n",
       "      <th>sample_column</th>\n",
       "    </tr>\n",
       "  </thead>\n",
       "  <tbody>\n",
       "    <tr>\n",
       "      <th>20</th>\n",
       "      <td>252</td>\n",
       "      <td>Adelie</td>\n",
       "      <td>Biscoe</td>\n",
       "      <td>37.8</td>\n",
       "      <td>18.3</td>\n",
       "      <td>Female</td>\n",
       "      <td>1.74</td>\n",
       "      <td>a</td>\n",
       "      <td>3.40</td>\n",
       "      <td>medium</td>\n",
       "      <td>100</td>\n",
       "    </tr>\n",
       "    <tr>\n",
       "      <th>21</th>\n",
       "      <td>353</td>\n",
       "      <td>Adelie</td>\n",
       "      <td>Biscoe</td>\n",
       "      <td>37.7</td>\n",
       "      <td>18.7</td>\n",
       "      <td>M</td>\n",
       "      <td>1.80</td>\n",
       "      <td>b</td>\n",
       "      <td>3.60</td>\n",
       "      <td>medium</td>\n",
       "      <td>100</td>\n",
       "    </tr>\n",
       "    <tr>\n",
       "      <th>22</th>\n",
       "      <td>129</td>\n",
       "      <td>Adelie</td>\n",
       "      <td>Biscoe</td>\n",
       "      <td>35.9</td>\n",
       "      <td>19.2</td>\n",
       "      <td>Female</td>\n",
       "      <td>1.89</td>\n",
       "      <td>c</td>\n",
       "      <td>3.80</td>\n",
       "      <td>medium</td>\n",
       "      <td>100</td>\n",
       "    </tr>\n",
       "    <tr>\n",
       "      <th>23</th>\n",
       "      <td>982</td>\n",
       "      <td>Adelie</td>\n",
       "      <td>Biscoe</td>\n",
       "      <td>38.2</td>\n",
       "      <td>18.1</td>\n",
       "      <td>M</td>\n",
       "      <td>1.85</td>\n",
       "      <td>a</td>\n",
       "      <td>3.95</td>\n",
       "      <td>medium</td>\n",
       "      <td>100</td>\n",
       "    </tr>\n",
       "    <tr>\n",
       "      <th>24</th>\n",
       "      <td>113</td>\n",
       "      <td>Adelie</td>\n",
       "      <td>Biscoe</td>\n",
       "      <td>38.8</td>\n",
       "      <td>17.2</td>\n",
       "      <td>M</td>\n",
       "      <td>1.80</td>\n",
       "      <td>c</td>\n",
       "      <td>3.80</td>\n",
       "      <td>medium</td>\n",
       "      <td>100</td>\n",
       "    </tr>\n",
       "  </tbody>\n",
       "</table>\n",
       "</div>"
      ],
      "text/plain": [
       "    code species  island  bill_length_mm  bill_depth_mm     sex  \\\n",
       "20   252  Adelie  Biscoe            37.8           18.3  Female   \n",
       "21   353  Adelie  Biscoe            37.7           18.7       M   \n",
       "22   129  Adelie  Biscoe            35.9           19.2  Female   \n",
       "23   982  Adelie  Biscoe            38.2           18.1       M   \n",
       "24   113  Adelie  Biscoe            38.8           17.2       M   \n",
       "\n",
       "    flipper_length_cm observer  body_mass_kg    size  sample_column  \n",
       "20               1.74        a          3.40  medium            100  \n",
       "21               1.80        b          3.60  medium            100  \n",
       "22               1.89        c          3.80  medium            100  \n",
       "23               1.85        a          3.95  medium            100  \n",
       "24               1.80        c          3.80  medium            100  "
      ]
     },
     "execution_count": 96,
     "metadata": {},
     "output_type": "execute_result"
    }
   ],
   "source": [
    "biscoe.head()"
   ]
  },
  {
   "cell_type": "markdown",
   "id": "5836648b-6ca1-4c3c-8cf7-7992575c4aee",
   "metadata": {},
   "source": []
  },
  {
   "cell_type": "markdown",
   "id": "dfb497c5-2864-4af0-8359-808fe9e4bbcf",
   "metadata": {},
   "source": []
  },
  {
   "cell_type": "markdown",
   "id": "45eb0c90-de4b-41a0-a6db-ff3658702a52",
   "metadata": {},
   "source": []
  }
 ],
 "metadata": {
  "kernelspec": {
   "display_name": "Anaconda 3 (Base)",
   "language": "python",
   "name": "base"
  },
  "language_info": {
   "codemirror_mode": {
    "name": "ipython",
    "version": 3
   },
   "file_extension": ".py",
   "mimetype": "text/x-python",
   "name": "python",
   "nbconvert_exporter": "python",
   "pygments_lexer": "ipython3",
   "version": "3.9.13"
  }
 },
 "nbformat": 4,
 "nbformat_minor": 5
}
